{
 "cells": [
  {
   "cell_type": "markdown",
   "metadata": {},
   "source": [
    "# Datum en tijd in Python \n",
    "\n",
    "Naast de types string, int en float telt Python een apart data type voor tijd en datums. De module datetime biedt zeer uitgebreide mogelijkheden die we hier uit de doeken zullen doen. \n",
    "\n",
    "## Datum"
   ]
  },
  {
   "cell_type": "code",
   "execution_count": 3,
   "metadata": {},
   "outputs": [
    {
     "name": "stdout",
     "output_type": "stream",
     "text": [
      "4\n"
     ]
    }
   ],
   "source": [
    "from datetime import date\n",
    "Geboortedatum=date(1969,12,5) # verjaardag ;=)\n",
    "# op welke dag is hij geboren?\n",
    "print(Geboortedatum.weekday())\n"
   ]
  },
  {
   "cell_type": "markdown",
   "metadata": {},
   "source": [
    "Python telt de dagen van de week als volgt: maandag(0),disndag(1),woensdag(2),donderdag(3),vrijdag(4),zaterdag(5) en tenslotte zondag(6). Dus de persoon is geboren op een vrijdag (4).\n",
    "We kunnen ook attributen aanspreken. Bijvoorbeeld:\n",
    "Geboortedatum.day\n",
    "Geboortedatum.year\n",
    "Geboortedatum.month"
   ]
  },
  {
   "cell_type": "code",
   "execution_count": 16,
   "metadata": {},
   "outputs": [
    {
     "name": "stdout",
     "output_type": "stream",
     "text": [
      "dag: 5\n",
      "jaar: 1969\n",
      "maand: 12\n"
     ]
    }
   ],
   "source": [
    "print(\"dag:\",Geboortedatum.day)\n",
    "print(\"jaar:\",Geboortedatum.year)\n",
    "print(\"maand:\",Geboortedatum.month)"
   ]
  },
  {
   "cell_type": "markdown",
   "metadata": {},
   "source": [
    "Wat betekent het nu indien we 2 data van elkaar aftrekken. We verwachten dan dat we aantal dagen verschil terug krijgen tussen de 2 data. Voorbeeld stel dat we date(1969,12,5) aftrekken van date(1935,5,5) dan krijgen we het het leeftijdsverschil in dagen tussen de 2 personen. (indien het hier telkens over een geboortedatum gaat)"
   ]
  },
  {
   "cell_type": "code",
   "execution_count": 17,
   "metadata": {},
   "outputs": [
    {
     "name": "stdout",
     "output_type": "stream",
     "text": [
      "Het verschil tussen 1935-05-05 en 1969-12-05 is  12633 days, 0:00:00\n"
     ]
    }
   ],
   "source": [
    "GDP1=date(1935,5,5)\n",
    "GDP2=date(1969,12,5)\n",
    "print(\"Het verschil tussen {0} en {1} is \".format(GDP1,GDP2),GDP2-GDP1)"
   ]
  },
  {
   "cell_type": "markdown",
   "metadata": {},
   "source": [
    "Omgekeerd zouden we ook een tijdsduur kunnen optellen bij een datum om zo een nieuwe datum aan te maken die deze tijdsduur van de datum is verwijderd. Hiervoor dienen we een andere klasse te gebruiken uit timedate: "
   ]
  },
  {
   "cell_type": "code",
   "execution_count": 27,
   "metadata": {},
   "outputs": [
    {
     "name": "stdout",
     "output_type": "stream",
     "text": [
      "We krijgen opnieuw: 1969-12-05\n"
     ]
    }
   ],
   "source": [
    "from datetime import timedelta\n",
    "td=timedelta(days=12633)\n",
    "GDP3=GDP1+td\n",
    "print(\"We krijgen opnieuw:\",GDP3)"
   ]
  },
  {
   "cell_type": "markdown",
   "metadata": {},
   "source": [
    "Er zijn veel manieren hoe we een datum kunnen voorstellen. Bijvoorbeeld 5 december, 1969 of 05-12-1969 of 1969-12-05.\n",
    "De laatste is vanuit wiskundig oogpunt de handigste omdat het sorteren volgens een string hier de data in juiste chronologische volgorde laat zien. Dit data formaat heet het ISO 8601 formaat let op we vullen hier aan met nullen waar nodig dus 1 April 1779 is 1779-04-01. In Python vormen we dan de date om d.m.v. .isoformat(). Bijvoorbeeld:"
   ]
  },
  {
   "cell_type": "code",
   "execution_count": 28,
   "metadata": {},
   "outputs": [
    {
     "name": "stdout",
     "output_type": "stream",
     "text": [
      "1969-12-05\n"
     ]
    }
   ],
   "source": [
    "from datetime import date\n",
    "GDP2=date(1969,12,5)\n",
    "string1=GDP2.isoformat()\n",
    "print(string1)"
   ]
  },
  {
   "cell_type": "markdown",
   "metadata": {},
   "source": [
    "In praktijk zullen we veel verschillende soorten voorstellingen maken van een datum. De strftime() biedt vele mogelijkheden:"
   ]
  },
  {
   "cell_type": "code",
   "execution_count": 37,
   "metadata": {},
   "outputs": [
    {
     "name": "stdout",
     "output_type": "stream",
     "text": [
      "Hij werd geboren in 1969\n",
      "De geboortedatum is 05:12:1969\n"
     ]
    }
   ],
   "source": [
    "from datetime import date\n",
    "GDP2=date(1969,12,5)\n",
    "# we kunnen creatief met verschillende regex codes deze datum in een string verwerken met strftime\n",
    "print(GDP2.strftime(\"Hij werd geboren in %Y\"))\n",
    "print(GDP2.strftime(\"De geboortedatum is %d:%m:%Y\"))\n"
   ]
  },
  {
   "cell_type": "markdown",
   "metadata": {},
   "source": [
    "Tal van codes kunnen gebruikt worden we verwijzen naar https://strftime.org/ voor meer mogelijkheden. De meest gebruikte even op een rij:\n",
    "%Y\tjaar in 4 cijfers (0000-9999)\n",
    "%m\tmaand in 2 cijfers (01-12)\n",
    "%d\tdag in 2 cijfers (01-31)\n",
    "%H\tuur in 2 cijfers (00-23)\n",
    "%M\tminuten in 2 cijfers (00-59)\n",
    "%S\tseconden in 2 cijfers (00-59)"
   ]
  },
  {
   "cell_type": "markdown",
   "metadata": {},
   "source": [
    "## Tijd en datum\n",
    "\n",
    "In vele situatie zal ook het tijdstip van een event belangrijk zijn. Bijvoorbeeld voor aandelen zal de prijs gedurende 1 dag soms sterk varieren. We gaan dus datum, uur, minuten en seconden en soms zelfs microseconden erbij moeten halen."
   ]
  },
  {
   "cell_type": "code",
   "execution_count": 38,
   "metadata": {},
   "outputs": [
    {
     "name": "stdout",
     "output_type": "stream",
     "text": [
      "2020-03-13 23:59:59\n"
     ]
    }
   ],
   "source": [
    "from datetime import datetime\n",
    "\n",
    "# Create a datetime object\n",
    "dt = datetime(2020,3, 13, 23, 59, 59) #1 seconde voor de corona lockdown\n",
    "\n",
    "# Print the results in ISO 8601 format\n",
    "print(dt)"
   ]
  },
  {
   "cell_type": "markdown",
   "metadata": {},
   "source": [
    "Dus we beginnen met jaar(2020) ,maand(03),dag(13),uur(23),minuten(59),seconden(59)"
   ]
  },
  {
   "cell_type": "code",
   "execution_count": null,
   "metadata": {},
   "outputs": [],
   "source": [
    "#het kan ook door expliciet dit aan te duiden\n",
    "dtbl=dt = datetime(year=2020,month=3, day=13, hour=23, minute=59, second=59)\n",
    "print(dt)\n",
    "# stel dat we dit willen wijzigen in dag dat de lockdown begon dan is het 14 maart om 0h, de maand en jaar \n",
    "# hoeven we niet te wijzigen\n",
    "dtl=dtbl.replace(day=14,hour=0,minute=0,second=0)\n",
    "print(dtl)"
   ]
  },
  {
   "cell_type": "markdown",
   "metadata": {},
   "source": [
    "In veel gevallen worden tijd en datum gegevens in bestanden voorgesteld als strings. We dienen dan de strings te converteren naar het datetime formaat."
   ]
  },
  {
   "cell_type": "code",
   "execution_count": 47,
   "metadata": {},
   "outputs": [
    {
     "name": "stdout",
     "output_type": "stream",
     "text": [
      "2017-12-03 00:00:01\n",
      "2017-12-03T00:00:01\n"
     ]
    }
   ],
   "source": [
    "# Import the datetime class\n",
    "from datetime import datetime\n",
    "\n",
    "# We geven een voorbeeldstring uit het bestand\n",
    "s = '2017/12/03 00:00:01'\n",
    "\n",
    "# We kunnen dit met regex herschrijven als \n",
    "fmt = '%Y/%m/%d %H:%M:%S'\n",
    "\n",
    "# Create a datetime object d\n",
    "dt = datetime.strptime(s,fmt)\n",
    "\n",
    "# Print dt (vgl de output met isoformat)\n",
    "print(dt)\n",
    "print(dt.isoformat())"
   ]
  },
  {
   "cell_type": "markdown",
   "metadata": {},
   "source": [
    "Als we informatieverwerken van computers dan staat er soms een tijdstempel of 'timestamp'. Dit is het aantal seconden dat verlopen is van 1/1/1970 tot het moment waarop de timestamp genomen is."
   ]
  },
  {
   "cell_type": "code",
   "execution_count": 48,
   "metadata": {},
   "outputs": [
    {
     "name": "stdout",
     "output_type": "stream",
     "text": [
      "[datetime.datetime(2014, 10, 30, 11, 32, 33), datetime.datetime(2014, 10, 30, 11, 22, 23)]\n"
     ]
    }
   ],
   "source": [
    "from datetime import datetime\n",
    "\n",
    "# tijdstempels in een lijst\n",
    "timestamps = [1414665153, 1414664543]\n",
    "\n",
    "# We initialiseren een lege lijst voor datetime waarden\n",
    "dts = []\n",
    "\n",
    "# Loop\n",
    "for ts in timestamps:\n",
    "  dts.append(datetime.fromtimestamp(ts))\n",
    "  \n",
    "\n",
    "print(dts)"
   ]
  },
  {
   "cell_type": "markdown",
   "metadata": {},
   "source": [
    "## Tijdsduur\n",
    "\n",
    "Hoe verwerken we nu een tijdsduur? Een nieuw type van variabele hebben we hier: timedelta"
   ]
  },
  {
   "cell_type": "code",
   "execution_count": 59,
   "metadata": {},
   "outputs": [
    {
     "name": "stdout",
     "output_type": "stream",
     "text": [
      "<class 'datetime.timedelta'>\n",
      "tijd Julian Alaphilippe: 0:35:00\n"
     ]
    }
   ],
   "source": [
    "# we importeren timedelta \n",
    "from datetime import timedelta,datetime,date\n",
    "# start en einde Uitslag 13e etappe Tour de France 2019\n",
    "startJulianAlaphilippe=datetime(2019,7,19,16,0,0)\n",
    "eindJulianAlaphilippe=datetime(2019,7,19,16,35,0)\n",
    "tijdJA=eindJulianAlaphilippe-startJulianAlaphilippe\n",
    "#Om de duur te berekenen moeten we eindtijd verminderen met de starttijd\n",
    "print(type(tijdJA))\n",
    "print(\"tijd Julian Alaphilippe:\",tijdJA)\n"
   ]
  },
  {
   "cell_type": "markdown",
   "metadata": {},
   "source": [
    "We weten dat het tijdsverschil met Thomas De Gendt de derde 36 seconden bedroeg. Als Thomas De Gendt vertrok om 14h30 die dag om hoe laat kwam hij dan aan?"
   ]
  },
  {
   "cell_type": "code",
   "execution_count": 61,
   "metadata": {},
   "outputs": [
    {
     "name": "stdout",
     "output_type": "stream",
     "text": [
      "Thomas De gendt finishte om: 2019-07-19 15:05:14\n"
     ]
    }
   ],
   "source": [
    "# we importeren timedelta \n",
    "from datetime import timedelta,datetime,date\n",
    "startThomasDeGendt=datetime(2019,7,19,14,30,0)\n",
    "# we moeten de seconden omzetten eerst naar timedelta type! tijdJA is reeds van timedelta type\n",
    "eindThomasDeGendt=startThomasDeGendt+timedelta(seconds=14)+tijdJA\n",
    "print(\"Thomas De gendt finishte om:\",eindThomasDeGendt)\n"
   ]
  },
  {
   "cell_type": "markdown",
   "metadata": {},
   "source": [
    "Hoeveel bedroeg de totale tijd van De Gendt in seconden?"
   ]
  },
  {
   "cell_type": "code",
   "execution_count": 71,
   "metadata": {},
   "outputs": [
    {
     "name": "stdout",
     "output_type": "stream",
     "text": [
      "tijd Thomas De Gendt in seconden: 2114.0\n"
     ]
    }
   ],
   "source": [
    "from datetime import timedelta,datetime,date\n",
    "tijdTDG=timedelta(seconds=14)+tijdJA\n",
    "print(\"tijd Thomas De Gendt in seconden:\",tijdTDG.total_seconds())\n"
   ]
  },
  {
   "cell_type": "markdown",
   "metadata": {},
   "source": [
    "## Tijdzones\n",
    "De wereld in verdeeld in verschillende tijdzones. Wanneer het bij ons middag is moet men in de VS nog ontwaken en is het bijna bedtijd in Japan. De Greenwich tijdzone is de standaard dit noemen we ook wel de UTC tijdzone. "
   ]
  },
  {
   "cell_type": "code",
   "execution_count": 91,
   "metadata": {},
   "outputs": [
    {
     "name": "stdout",
     "output_type": "stream",
     "text": [
      "de online meeting zal doorgaan om: 2017-12-05 12:02:13\n",
      "de tijd in Brussel is: 2017-12-05T12:02:13+01:00\n",
      "2017-12-05 11:02:13+00:00  is het zelfde als  2017-12-05 11:02:13+00:00\n"
     ]
    }
   ],
   "source": [
    "# importeer timezone uit datetime\n",
    "from datetime import datetime,timezone, timedelta\n",
    "dt=datetime(2017,12,5,12,2,13)\n",
    "print(\"de online meeting zal doorgaan om:\",dt)\n",
    "# maar at nu indien je mensen uitnodigt die erken in de VS China of ergens anders. \n",
    "# Over welke tijdzone spreekt men? De tijdzone dient men op te geven! In Belgie lopen we 1uur voor op UTC tijd \n",
    "# (Greenwich)\n",
    "# we definiëren de tijdzone als volgt:\n",
    "tzBrussel=timezone(timedelta(hours=+1))\n",
    "\n",
    "dtz=datetime(2017,12,5,12,2,13,tzinfo=tzBrussel)\n",
    "print(\"de tijd in Brussel is:\",dtz.isoformat()) #we zien de tijdzone er bij staan\n",
    "\n",
    "# 2 manieren om UTC tijdzone in te stellen\n",
    "UTC=timezone(timedelta(hours=0))\n",
    "UTC2=timezone.utc #is een kortere manier om UTC​ te definieren\n",
    "dtz=datetime(2017,12,5,11,2,13,tzinfo=UTC)\n",
    "dtz2=datetime(2017,12,5,11,2,13,tzinfo=UTC2)\n",
    "print(dtz,\" is het zelfde als \",dtz2)"
   ]
  },
  {
   "cell_type": "markdown",
   "metadata": {},
   "source": [
    "Hoe kunnen we nu de tijd laten herberekenen voor een specifieke regio?\n",
    "Stel dat er mensen uit India de meeting volgen. Om hoe laat moeten zij online zijn in hun locale tijd?\n",
    "T.o.v UTC loopt India IST 5h30min voor "
   ]
  },
  {
   "cell_type": "code",
   "execution_count": 92,
   "metadata": {},
   "outputs": [
    {
     "name": "stdout",
     "output_type": "stream",
     "text": [
      "De meeting start in India om: 2017-12-05 16:32:13+05:30\n",
      "2017-12-05T16:32:13+05:30\n"
     ]
    }
   ],
   "source": [
    "# India Standard time zone\n",
    "IST = timezone(timedelta(hours=5, minutes=30))\n",
    "# omrekenen naar IST\n",
    "IndiaMeetingTime=dtz.astimezone(IST)\n",
    "print(\"De meeting start in India om:\",IndiaMeetingTime)\n",
    "print(IndiaMeetingTime.isoformat())"
   ]
  },
  {
   "cell_type": "code",
   "execution_count": null,
   "metadata": {},
   "outputs": [],
   "source": [
    "UTC=timezone.utc \n",
    "# !als de enkel tijdzone wordt aangepast dan blijft de rest wel idd !\n",
    "NoMeetingTime=IndiaMeetingTime.replace(tzinfo=UTC)\n",
    "print(NoMeetingTime.isoformat())"
   ]
  },
  {
   "cell_type": "markdown",
   "metadata": {},
   "source": [
    "Hoe kunnen we op ieder moment de tijdsverschillen kennen? Voor alle programmeertalen is een databank voorzien.\n",
    "Om de tijdzone te bekomen dienen we enkel het continent en een grote stad in de buurt op te geven. Bijvoorbeeld:"
   ]
  },
  {
   "cell_type": "code",
   "execution_count": 99,
   "metadata": {},
   "outputs": [
    {
     "name": "stdout",
     "output_type": "stream",
     "text": [
      "tzfile('/usr/share/zoneinfo/Asia/Tehran')\n",
      "De meeting start in Teheran om: 2017-12-05 06:02:13-05:00\n",
      "2017-12-05T06:02:13-05:00\n"
     ]
    }
   ],
   "source": [
    "from datetime import timedelta,datetime,timezone\n",
    "from dateutil import tz\n",
    "#stel dat we tijdzone van Teheran willen kennen\n",
    "TehTZ=tz.gettz('Asia/Tehran')\n",
    "print(TehTZ)\n",
    "TehTZ=timezone(timedelta(hours=-5))\n",
    "TeheranMeetingTime=dtz.astimezone(TehTZ)\n",
    "print(\"De meeting start in Teheran om:\",TeheranMeetingTime)\n",
    "print(TeheranMeetingTime.isoformat())"
   ]
  },
  {
   "cell_type": "markdown",
   "metadata": {},
   "source": [
    "### Wintertijd en zomertijd\n"
   ]
  },
  {
   "cell_type": "code",
   "execution_count": null,
   "metadata": {},
   "outputs": [],
   "source": []
  },
  {
   "cell_type": "markdown",
   "metadata": {},
   "source": [
    "## Tijd en datum in Pandas\n",
    "Bij het verwerken van dataframes zijn een goede verwerking van tijd en data essentiëel. De klassieke datetime module heeft enkele tekortkomingen. Pandas zal dit opvangen door een aantal nieuwe methoden te introduceren.\n",
    "In Pandas spreken we van Timestamp i.p.v. het type datetime maar veel verschil is er niet."
   ]
  },
  {
   "cell_type": "code",
   "execution_count": 106,
   "metadata": {
    "scrolled": true
   },
   "outputs": [
    {
     "name": "stdout",
     "output_type": "stream",
     "text": [
      "   patient_id  global_num   sex  birth_year  age country province  \\\n",
      "0  1000000001         2.0  male      1964.0  50s   Korea    Seoul   \n",
      "1  1000000002         5.0  male      1987.0  30s   Korea    Seoul   \n",
      "2  1000000003         6.0  male      1964.0  50s   Korea    Seoul   \n",
      "\n",
      "          city disease        infection_case  infection_order   infected_by  \\\n",
      "0   Gangseo-gu     NaN       overseas inflow              1.0           NaN   \n",
      "1  Jungnang-gu     NaN       overseas inflow              1.0           NaN   \n",
      "2    Jongno-gu     NaN  contact with patient              2.0  2.002000e+09   \n",
      "\n",
      "   contact_number symptom_onset_date confirmed_date released_date  \\\n",
      "0            75.0         2020-01-22     2020-01-23    2020-02-05   \n",
      "1            31.0                NaN     2020-01-30    2020-03-02   \n",
      "2            17.0                NaN     2020-01-30    2020-02-19   \n",
      "\n",
      "  deceased_date     state  \n",
      "0           NaN  released  \n",
      "1           NaN  released  \n",
      "2           NaN  released  \n",
      "<class 'pandas.core.frame.DataFrame'>\n",
      "RangeIndex: 2771 entries, 0 to 2770\n",
      "Data columns (total 18 columns):\n",
      "patient_id            2771 non-null int64\n",
      "global_num            1664 non-null float64\n",
      "sex                   2765 non-null object\n",
      "birth_year            2414 non-null float64\n",
      "age                   2758 non-null object\n",
      "country               2771 non-null object\n",
      "province              2771 non-null object\n",
      "city                  2703 non-null object\n",
      "disease               19 non-null object\n",
      "infection_case        1843 non-null object\n",
      "infection_order       31 non-null float64\n",
      "infected_by           650 non-null float64\n",
      "contact_number        517 non-null float64\n",
      "symptom_onset_date    389 non-null object\n",
      "confirmed_date        2771 non-null object\n",
      "released_date         709 non-null object\n",
      "deceased_date         48 non-null object\n",
      "state                 2771 non-null object\n",
      "dtypes: float64(5), int64(1), object(12)\n",
      "memory usage: 389.8+ KB\n",
      "None\n"
     ]
    }
   ],
   "source": [
    "import pandas as pd\n",
    "#patientinfo bevat patienten informatie i.v.m. Zuid-Koreaanse besmette patienten graag zouden we berekenen\n",
    "# hoe lang het duurt voordat een patient ontslagen wordt uit het hospitaal\n",
    "Patienten=pd.read_csv('//users/ronybaekeland/Desktop/datascience/datasets/coronavirusdataset/Patientinfo.csv')\n",
    "print(Patienten.head(3))\n",
    "print(Patienten.info())\n"
   ]
  },
  {
   "cell_type": "markdown",
   "metadata": {},
   "source": [
    "We merken dat verschillende datya verwijzen naar een datum sympton_onset_date, confirmed_date, released_date,deceased_date maar ze zijn van het type non-null object. Hoe vertellen we Pandas dat die kolommen moeten worden ingelezen als een datum? We geven een lijst mee van de kolommen die als een datum moeten worden ingelezen bij de read_csv"
   ]
  },
  {
   "cell_type": "code",
   "execution_count": 20,
   "metadata": {},
   "outputs": [
    {
     "name": "stdout",
     "output_type": "stream",
     "text": [
      "   patient_id  global_num   sex  birth_year  age country province  \\\n",
      "0  1000000001         2.0  male      1964.0  50s   Korea    Seoul   \n",
      "1  1000000002         5.0  male      1987.0  30s   Korea    Seoul   \n",
      "2  1000000003         6.0  male      1964.0  50s   Korea    Seoul   \n",
      "\n",
      "          city disease        infection_case  infection_order   infected_by  \\\n",
      "0   Gangseo-gu     NaN       overseas inflow              1.0           NaN   \n",
      "1  Jungnang-gu     NaN       overseas inflow              1.0           NaN   \n",
      "2    Jongno-gu     NaN  contact with patient              2.0  2.002000e+09   \n",
      "\n",
      "   contact_number symptom_onset_date confirmed_date released_date  \\\n",
      "0            75.0         2020-01-22     2020-01-23    2020-02-05   \n",
      "1            31.0                NaT     2020-01-30    2020-03-02   \n",
      "2            17.0                NaT     2020-01-30    2020-02-19   \n",
      "\n",
      "  deceased_date     state  \n",
      "0           NaN  released  \n",
      "1           NaN  released  \n",
      "2           NaN  released  \n",
      "<class 'pandas.core.frame.DataFrame'>\n",
      "RangeIndex: 2771 entries, 0 to 2770\n",
      "Data columns (total 18 columns):\n",
      "patient_id            2771 non-null int64\n",
      "global_num            1664 non-null float64\n",
      "sex                   2765 non-null object\n",
      "birth_year            2414 non-null float64\n",
      "age                   2758 non-null object\n",
      "country               2771 non-null object\n",
      "province              2771 non-null object\n",
      "city                  2703 non-null object\n",
      "disease               19 non-null object\n",
      "infection_case        1843 non-null object\n",
      "infection_order       31 non-null float64\n",
      "infected_by           650 non-null float64\n",
      "contact_number        517 non-null float64\n",
      "symptom_onset_date    389 non-null datetime64[ns]\n",
      "confirmed_date        2771 non-null datetime64[ns]\n",
      "released_date         709 non-null datetime64[ns]\n",
      "deceased_date         48 non-null object\n",
      "state                 2771 non-null object\n",
      "dtypes: datetime64[ns](3), float64(5), int64(1), object(9)\n",
      "memory usage: 389.8+ KB\n",
      "None\n"
     ]
    }
   ],
   "source": [
    "import pandas as pd\n",
    "#patientinfo bevat patienten informatie i.v.m. Zuid-Koreaanse besmette patienten graag zouden we berekenen\n",
    "# hoe lang het duurt voordat een patient ontslagen wordt uit het hospitaal\n",
    "filename='//users/ronybaekeland/Desktop/datascience/datasets/coronavirusdataset/Patientinfo.csv'\n",
    "Patienten=pd.read_csv(filename,parse_dates=['symptom_onset_date', 'confirmed_date', 'released_date' ])\n",
    "print(Patienten.head(3))\n",
    "print(Patienten.info())"
   ]
  },
  {
   "cell_type": "markdown",
   "metadata": {},
   "source": [
    "We zien nu dat de 4 data van het type datetime64 zijn i.p.v. non-null object:\n",
    "\n",
    "symptom_onset_date    389 non-null datetime64[ns]\n",
    "confirmed_date        2771 non-null datetime64[ns]\n",
    "released_date         709 non-null datetime64[ns]\n",
    "\n",
    "\n",
    "Een alternatief om na het inlezen van de data toch nog de kolommen in een dataset aop het type datetime te zetten in Pandas is d.m.v. pd.to_datetime. We hebben bij het inlezen van de gegevens deceased_date over het hoofd gezien. We willen alsnog deze ook van het type datetime maken. Dit doen we door pd.to_datetime toe te passen. Hier moeten we wel het formaat van de datums ingeven bij parse_dates zoekt Pandas zelf naar een geschikt formaat."
   ]
  },
  {
   "cell_type": "code",
   "execution_count": 21,
   "metadata": {},
   "outputs": [
    {
     "name": "stdout",
     "output_type": "stream",
     "text": [
      "<class 'pandas.core.frame.DataFrame'>\n",
      "RangeIndex: 2771 entries, 0 to 2770\n",
      "Data columns (total 18 columns):\n",
      "patient_id            2771 non-null int64\n",
      "global_num            1664 non-null float64\n",
      "sex                   2765 non-null object\n",
      "birth_year            2414 non-null float64\n",
      "age                   2758 non-null object\n",
      "country               2771 non-null object\n",
      "province              2771 non-null object\n",
      "city                  2703 non-null object\n",
      "disease               19 non-null object\n",
      "infection_case        1843 non-null object\n",
      "infection_order       31 non-null float64\n",
      "infected_by           650 non-null float64\n",
      "contact_number        517 non-null float64\n",
      "symptom_onset_date    389 non-null datetime64[ns]\n",
      "confirmed_date        2771 non-null datetime64[ns]\n",
      "released_date         709 non-null datetime64[ns]\n",
      "deceased_date         48 non-null datetime64[ns]\n",
      "state                 2771 non-null object\n",
      "dtypes: datetime64[ns](4), float64(5), int64(1), object(8)\n",
      "memory usage: 389.8+ KB\n"
     ]
    }
   ],
   "source": [
    "import pandas as pd\n",
    "Patienten['deceased_date'] =pd.to_datetime(Patienten['deceased_date'],format='%Y-%m-%d')\n",
    "Patienten.info()"
   ]
  },
  {
   "cell_type": "markdown",
   "metadata": {},
   "source": [
    "We willen nu eens kijken naar de gemiddeld verblijf in het hospitaal in Zuid-Korea."
   ]
  },
  {
   "cell_type": "code",
   "execution_count": 22,
   "metadata": {},
   "outputs": [
    {
     "name": "stdout",
     "output_type": "stream",
     "text": [
      "<class 'pandas.core.frame.DataFrame'>\n",
      "RangeIndex: 2771 entries, 0 to 2770\n",
      "Data columns (total 18 columns):\n",
      "patient_id          2771 non-null int64\n",
      "globaal_nr          1664 non-null float64\n",
      "geslacht            2765 non-null object\n",
      "geboortejaar        2414 non-null float64\n",
      "leeftijd            2758 non-null object\n",
      "land                2771 non-null object\n",
      "provincie           2771 non-null object\n",
      "stad                2703 non-null object\n",
      "ziekte              19 non-null object\n",
      "infectie_geval      1843 non-null object\n",
      "infectiegraad       31 non-null float64\n",
      "infectiedoor        650 non-null float64\n",
      "contact_nr          517 non-null float64\n",
      "symptonendatum      389 non-null datetime64[ns]\n",
      "testuitslagdatum    2771 non-null datetime64[ns]\n",
      "ontslagdatum        709 non-null datetime64[ns]\n",
      "dag_overlijden      48 non-null datetime64[ns]\n",
      "staat               2771 non-null object\n",
      "dtypes: datetime64[ns](4), float64(5), int64(1), object(8)\n",
      "memory usage: 389.8+ KB\n"
     ]
    }
   ],
   "source": [
    "# We maken een nieuwe kolom die de tijdsduur bevat tussen tijdstip waarop ziekte was bevestigd \n",
    "# en de tijd van ontslag uit het ziekenhuis we noemen dit 'duur'. \n",
    "# We vertalen ook alle kolomnamen in het nederlands.\n",
    "Patienten.columns=['patient_id','globaal_nr','geslacht','geboortejaar','leeftijd','land',\n",
    "                  'provincie','stad','ziekte','infectie_geval','infectiegraad','infectiedoor',\n",
    "                  'contact_nr','symptonendatum','testuitslagdatum','ontslagdatum','dag_overlijden','staat']\n",
    "Patienten.info()\n",
    "#"
   ]
  },
  {
   "cell_type": "code",
   "execution_count": 47,
   "metadata": {},
   "outputs": [
    {
     "name": "stdout",
     "output_type": "stream",
     "text": [
      "0   13 days\n",
      "1   32 days\n",
      "2   20 days\n",
      "Name: duurziekte, dtype: timedelta64[ns]\n",
      "Gemiddeld verbleven de patienten 18 dagen in het ziekenhuis\n"
     ]
    }
   ],
   "source": [
    "Patienten['duurziekte']=Patienten['ontslagdatum']-Patienten['testuitslagdatum']\n",
    "print(Patienten['duurziekte'].head(3))\n",
    "GemiddeldeDuur=Patienten['duurziekte'].mean()\n",
    "print(\"Gemiddeld verbleven de patienten {0} dagen in het ziekenhuis\".format(GemiddeldeDuur.days))"
   ]
  },
  {
   "cell_type": "markdown",
   "metadata": {},
   "source": [
    "Er zijn verschillende graden van infectie weergegeven door infectiegraad. We tellen nu het aantal infecties per infectiegraad. Infectiegraad 1 wil zeggen dat de persoon besmet was in Wuhan. Infectiegraad 2 wil zeggen dat de persoon besmet werd door iemand met infectiegraad 1 enz"
   ]
  },
  {
   "cell_type": "code",
   "execution_count": 27,
   "metadata": {},
   "outputs": [
    {
     "name": "stdout",
     "output_type": "stream",
     "text": [
      "1.0    11\n",
      "2.0     8\n",
      "3.0     6\n",
      "5.0     3\n",
      "4.0     2\n",
      "6.0     1\n",
      "Name: infectiegraad, dtype: int64\n"
     ]
    }
   ],
   "source": [
    "print(Patienten['infectiegraad'].value_counts())"
   ]
  },
  {
   "cell_type": "markdown",
   "metadata": {},
   "source": [
    "We merken dat niet voor alle patienten een infectiegraad is opgegeven, omdat we dikwijls niet weten hoe de infectie is opgelopen. "
   ]
  },
  {
   "cell_type": "code",
   "execution_count": 36,
   "metadata": {},
   "outputs": [
    {
     "name": "stdout",
     "output_type": "stream",
     "text": [
      "True     2740\n",
      "False      31\n",
      "Name: infectiegraad, dtype: int64\n"
     ]
    }
   ],
   "source": [
    "# We zien dat de meeste gevallen niet te traceren zijn\n",
    "print(Patienten['infectiegraad'].isnull().value_counts())"
   ]
  },
  {
   "cell_type": "markdown",
   "metadata": {},
   "source": [
    "Is er een verschil in duurziekte voor de verschillende maanden? We gebruiken resample om een overzicht te krijgen;"
   ]
  },
  {
   "cell_type": "code",
   "execution_count": 72,
   "metadata": {},
   "outputs": [
    {
     "name": "stdout",
     "output_type": "stream",
     "text": [
      "(Timestamp('2020-01-31 00:00:00', freq='M'), 633    17 days\n",
      "0      13 days\n",
      "813    17 days\n",
      "814    13 days\n",
      "1      32 days\n",
      "2      20 days\n",
      "3      16 days\n",
      "4      24 days\n",
      "5      19 days\n",
      "6      10 days\n",
      "1488   12 days\n",
      "Name: duurziekte, dtype: timedelta64[ns])\n",
      "(Timestamp('2020-02-29 00:00:00', freq='M'), 815    17 days\n",
      "7      22 days\n",
      "816    16 days\n",
      "817    22 days\n",
      "613    17 days\n",
      "         ...  \n",
      "2639       NaT\n",
      "2640       NaT\n",
      "2641       NaT\n",
      "2642       NaT\n",
      "2727       NaT\n",
      "Name: duurziekte, Length: 913, dtype: timedelta64[ns])\n",
      "(Timestamp('2020-03-31 00:00:00', freq='M'), 82     NaT\n",
      "85     NaT\n",
      "87     NaT\n",
      "88     NaT\n",
      "89     NaT\n",
      "        ..\n",
      "2770   NaT\n",
      "1487   NaT\n",
      "2123   NaT\n",
      "2268   NaT\n",
      "2269   NaT\n",
      "Name: duurziekte, Length: 1847, dtype: timedelta64[ns])\n"
     ]
    }
   ],
   "source": [
    "GroepenPerMaand=Patienten.resample('M',on='testuitslagdatum')['duurziekte']\n",
    "for x in GroepenPerMaand :print(x)"
   ]
  },
  {
   "cell_type": "markdown",
   "metadata": {},
   "source": [
    "We merken op dat enkel voor de maanden januari en februari we zinnige data hebben want voor maart ontbreken er teveel gegevens (ontslag is nog niet bekomen). We bekijken de maanden februari en januari"
   ]
  },
  {
   "cell_type": "code",
   "execution_count": 80,
   "metadata": {},
   "outputs": [
    {
     "data": {
      "text/plain": [
       "633    2020-01-20\n",
       "0      2020-01-23\n",
       "813    2020-01-26\n",
       "814    2020-01-27\n",
       "1      2020-01-30\n",
       "2      2020-01-30\n",
       "3      2020-01-30\n",
       "4      2020-01-31\n",
       "5      2020-01-31\n",
       "6      2020-01-31\n",
       "1488   2020-01-31\n",
       "Name: testuitslagdatum, dtype: datetime64[ns]"
      ]
     },
     "execution_count": 80,
     "metadata": {},
     "output_type": "execute_result"
    }
   ],
   "source": [
    "PatientenJAN=Patienten[Patienten['testuitslagdatum']< '2020-02-01']\n",
    "PatientenJAN['testuitslagdatum'].sort_values()"
   ]
  },
  {
   "cell_type": "code",
   "execution_count": 85,
   "metadata": {},
   "outputs": [
    {
     "data": {
      "text/plain": [
       "815    2020-02-01\n",
       "7      2020-02-02\n",
       "816    2020-02-02\n",
       "817    2020-02-02\n",
       "613    2020-02-03\n",
       "          ...    \n",
       "90     2020-02-29\n",
       "1503   2020-02-29\n",
       "62     2020-02-29\n",
       "1636   2020-02-29\n",
       "508    2020-02-29\n",
       "Name: testuitslagdatum, Length: 913, dtype: datetime64[ns]"
      ]
     },
     "execution_count": 85,
     "metadata": {},
     "output_type": "execute_result"
    }
   ],
   "source": [
    "PatientenFEB=Patienten[(Patienten['testuitslagdatum']< '2020-03-01')& (Patienten['testuitslagdatum']> '2020-01-31')]\n",
    "PatientenFEB['testuitslagdatum'].sort_values()"
   ]
  },
  {
   "cell_type": "code",
   "execution_count": 86,
   "metadata": {},
   "outputs": [
    {
     "name": "stdout",
     "output_type": "stream",
     "text": [
      "20 days 05:09:29.552238\n"
     ]
    }
   ],
   "source": [
    "print(PatientenJAN['duurziekte'].mean())"
   ]
  },
  {
   "cell_type": "code",
   "execution_count": 87,
   "metadata": {},
   "outputs": [
    {
     "name": "stdout",
     "output_type": "stream",
     "text": [
      "20 days 05:09:29.552238\n"
     ]
    }
   ],
   "source": [
    "print(PatientenJAN['duurziekte'].mean())"
   ]
  },
  {
   "cell_type": "code",
   "execution_count": 88,
   "metadata": {},
   "outputs": [
    {
     "name": "stdout",
     "output_type": "stream",
     "text": [
      "18 days 09:40:52.468265\n"
     ]
    }
   ],
   "source": [
    "print(Patienten['duurziekte'].mean())\n"
   ]
  },
  {
   "cell_type": "code",
   "execution_count": 89,
   "metadata": {},
   "outputs": [
    {
     "ename": "SyntaxError",
     "evalue": "invalid syntax (<ipython-input-89-54dc55045647>, line 1)",
     "output_type": "error",
     "traceback": [
      "\u001b[0;36m  File \u001b[0;32m\"<ipython-input-89-54dc55045647>\"\u001b[0;36m, line \u001b[0;32m1\u001b[0m\n\u001b[0;31m    liste=[$,+,,]\u001b[0m\n\u001b[0m           ^\u001b[0m\n\u001b[0;31mSyntaxError\u001b[0m\u001b[0;31m:\u001b[0m invalid syntax\n"
     ]
    }
   ],
   "source": [
    "liste=[$,+,,]"
   ]
  },
  {
   "cell_type": "code",
   "execution_count": null,
   "metadata": {},
   "outputs": [],
   "source": []
  },
  {
   "cell_type": "markdown",
   "metadata": {},
   "source": [
    "Referenties:\n",
    "https://www.kaggle.com/thebrownviking20/everything-you-can-do-with-a-time-series\n",
    "https://www.kaggle.com/fedecape/it-s-crime-time-a-datetime-exploration\n"
   ]
  },
  {
   "cell_type": "code",
   "execution_count": null,
   "metadata": {},
   "outputs": [],
   "source": []
  }
 ],
 "metadata": {
  "kernelspec": {
   "display_name": "Python 3",
   "language": "python",
   "name": "python3"
  },
  "language_info": {
   "codemirror_mode": {
    "name": "ipython",
    "version": 3
   },
   "file_extension": ".py",
   "mimetype": "text/x-python",
   "name": "python",
   "nbconvert_exporter": "python",
   "pygments_lexer": "ipython3",
   "version": "3.7.4"
  }
 },
 "nbformat": 4,
 "nbformat_minor": 2
}
