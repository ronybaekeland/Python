{
 "cells": [
  {
   "cell_type": "code",
   "execution_count": null,
   "metadata": {},
   "outputs": [],
   "source": [
    "# Diep leren met Python\n",
    "\n",
    "Stel we willen een computer leren om prentjes te interpreteren. We geven een foto van een dier en we vragen \n",
    "de computer om de soort te herkennen (bijvoorbeeld hond) of sterker het ras (bijvoorbeeld poedel). \n",
    "Dit kan als we het programma duizenden foto's geven waarvan de kenmerken beschreven zijn (hond, poedel, volwassen dier, ...). het programma moet dus in staat zijn om te leren uit de foto's zoals een kind. Ook bij een kind laten we plaatjes zien van dieren en benoemen we de dieren met hun naam.\n",
    "\n",
    "In Python is de ideale ontwikkelingsomgeving om zo een programma te maken, omdat de AI elementen aanwezig zijn \n",
    "in verschillende bibliotheken. Ten eerste is er Tensorflow dat neurale netwerken kan implementeren maar ook nog\n",
    "is er het framework Keras dat ontwikkeld is bovenop Tensorflow. Pytorch is een ander framework maar we zullen\n",
    "ons hier beperken tot Keras en Tensorflow. \n",
    "\n",
    "Deze software implementeert dus toepassingen op neurale netwerken. Maar wat zijn neurale netwerken.\n",
    "\n",
    "## Neurale netwerken\n",
    "\n",
    "We bespreken in wat volgt Artificiele Neurale netwerken. Een ANN bestaat uit verschillende lagen de eerste laag is de inputlaag. \n",
    "In het voorbeeld hieronder zien we 4 input variabelen voorgesteld door 4 noden. \n",
    "Er zijn 2 verborgen lagen met respectievelijk 3 en 2 noden. Tenslotte zijn er in dit geval 2 output noden, die corresponderen met 2 uitput waarden.\n",
    "De neurale netwerken die we hier bekijken werken steeds met numerieke waarden.\n",
    "\n",
    "![neuraalnetwerkvoorbeeld.jpeg](attachment:neuraalnetwerkvoorbeeld.jpeg)\n",
    "\n",
    "\n",
    "Hoe werkt nu zo een neuraal netwerk?\n",
    "\n",
    "Een eerste manier kan zijn via supervised learning. \n",
    "Hierbij voeden we het netwerk met voorbeelden en waarbij telkens 4 input waarden worden gegeven en \n",
    "2 outputwaarden de parameters in het netwerk worden zo aangepast dat ze gegeven de input waarden de outputwaarden\n",
    "zo goed mogelijk benaderen.\n",
    "\n",
    "Wat gebeurt er tussen de inputlaag en de outputlaag eens dat het netwerk getraind is en we nieuwe input waarden krijgen?\n",
    "In een eerste vereenvoudigde uitleg zullen we niet werken met een activeringsfunctie, we komen daar later wel op terug.\n",
    "    \n",
    "\n"
   ]
  },
  {
   "cell_type": "markdown",
   "metadata": {},
   "source": [
    "\n",
    "\n",
    "\n"
   ]
  },
  {
   "cell_type": "markdown",
   "metadata": {},
   "source": [
    "\n",
    "## Referenties\n",
    "https://bits-chips.nl/artikel/herkansing-voor-neurale-netwerken/"
   ]
  }
 ],
 "metadata": {
  "kernelspec": {
   "display_name": "Python 3",
   "language": "python",
   "name": "python3"
  },
  "language_info": {
   "codemirror_mode": {
    "name": "ipython",
    "version": 3
   },
   "file_extension": ".py",
   "mimetype": "text/x-python",
   "name": "python",
   "nbconvert_exporter": "python",
   "pygments_lexer": "ipython3",
   "version": "3.7.4"
  }
 },
 "nbformat": 4,
 "nbformat_minor": 2
}
