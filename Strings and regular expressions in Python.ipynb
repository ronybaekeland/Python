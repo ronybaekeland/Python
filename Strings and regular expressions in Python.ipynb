{
 "cells": [
  {
   "cell_type": "markdown",
   "metadata": {},
   "source": [
    "# Appendix: Strings en reguliere expressies in Python\n",
    "\n",
    "Voor mensen die ervaring hebben met andere programmeertalen is dit hoofdstuk voor een groot deel herhaling. We zullen eerst beginnen met de simple bewerkingen die men kan uitvoeren op strings om vervolgens de kracht van reguliere expressies te demonstreren.\n",
    "\n",
    "## Strings: definitie, kenmerken en bewerkingen\n",
    "\n",
    "### Definitie\n",
    "\n",
    "Hoe kunnen we een string maken?\n",
    "Een string variabele geven we aan door karakters tussen enkele of dubbele quotes te plaatsen\n",
    "Voorbeeld:"
   ]
  },
  {
   "cell_type": "code",
   "execution_count": 5,
   "metadata": {},
   "outputs": [
    {
     "name": "stdout",
     "output_type": "stream",
     "text": [
      " er is geen verschil\n"
     ]
    }
   ],
   "source": [
    "EenVoorbeeldString='Dit is een string'\n",
    "EenTweedeVoorbeeldString=\"Dit is een string\"\n",
    "if EenVoorbeeldString==EenTweedeVoorbeeldString : print(\" er is geen verschil\")"
   ]
  },
  {
   "cell_type": "markdown",
   "metadata": {},
   "source": [
    "Of men dubbele aanhalingstekens gebruikt of enkele maakt dus niks uit. Opgepast start je met een dubbele quote dan eindig je ook met een dubbele qoute en hetzelfde voor de enkele quote.Voorbeeld:"
   ]
  },
  {
   "cell_type": "code",
   "execution_count": 10,
   "metadata": {},
   "outputs": [
    {
     "name": "stdout",
     "output_type": "stream",
     "text": [
      "Het is s'avonds nog vroeg donker\n"
     ]
    }
   ],
   "source": [
    "# geenString='dit werkt niet\"\n",
    "WelString=\"Het is s'avonds nog vroeg donker\" # we gebruiken hier dubbele aanhalingstekens zodat \n",
    "#de ' na de s niet wort geïnterpreteerd als het einde van de string\n",
    "print(WelString)"
   ]
  },
  {
   "cell_type": "markdown",
   "metadata": {},
   "source": [
    "Een andere manier om een string te maken is door conversie van een ander type naar een string. Bijvoorbeeld van type int naar type str en van Boolean naar str:"
   ]
  },
  {
   "cell_type": "code",
   "execution_count": 17,
   "metadata": {},
   "outputs": [
    {
     "name": "stdout",
     "output_type": "stream",
     "text": [
      "<class 'str'>\n",
      "<class 'str'>\n"
     ]
    }
   ],
   "source": [
    "EenBekeerdeString=str('12376')\n",
    "NogEenBekeerde=str(False)\n",
    "print(type(EenBekeerdeString))\n",
    "print(type(NogEenBekeerde))"
   ]
  },
  {
   "cell_type": "markdown",
   "metadata": {},
   "source": [
    "### Kenmerken\n",
    "\n",
    "#### Lengte\n",
    "\n",
    "Het is in vele gevallen goed om de lengte van de string (aantal karakters) te kennen."
   ]
  },
  {
   "cell_type": "code",
   "execution_count": 13,
   "metadata": {},
   "outputs": [
    {
     "name": "stdout",
     "output_type": "stream",
     "text": [
      "32\n"
     ]
    }
   ],
   "source": [
    "print(len(WelString))"
   ]
  },
  {
   "cell_type": "code",
   "execution_count": 18,
   "metadata": {},
   "outputs": [
    {
     "name": "stdout",
     "output_type": "stream",
     "text": [
      "5\n"
     ]
    }
   ],
   "source": [
    "print(len(EenBekeerdeString))"
   ]
  },
  {
   "cell_type": "markdown",
   "metadata": {},
   "source": [
    "#### Indexering"
   ]
  },
  {
   "cell_type": "markdown",
   "metadata": {},
   "source": [
    "Het is mogelijk om te werken met delen van een string. Bijvoorbeeldde string:\n",
    "\"Zen zijn\"  \n",
    " 01234567\n",
    " \n",
    " We zien dat Z index 0 heeft, e index 1,n index 2, spatie heeft index 3 ,....j heeft index 6en n heeft index 7.\n",
    " Het eerste karakter heeft dus steeds index 0!\n",
    " Het laatste karakter heeft index len(string)-1\n",
    " "
   ]
  },
  {
   "cell_type": "code",
   "execution_count": 22,
   "metadata": {},
   "outputs": [
    {
     "name": "stdout",
     "output_type": "stream",
     "text": [
      "Z\n",
      "e\n",
      " \n",
      "n\n"
     ]
    }
   ],
   "source": [
    "ZZ=\"Zen zijn\"\n",
    "print(ZZ[0]) #eerste karakter van de string\n",
    "print(ZZ[1]) # tweede karakter van de string\n",
    "print(ZZ[3]) # de spatie!\n",
    "print(ZZ[len(ZZ)-1])"
   ]
  },
  {
   "cell_type": "markdown",
   "metadata": {},
   "source": [
    "M.b.v. indexering kunnen we niet enkel karakters eruit pikken, we kunnen ook zo stukken van strings er uit halen.\n",
    "De syntax om alle karakters te selecteren tussen begin-index en eind-index is: MijnString[begin:einde]"
   ]
  },
  {
   "cell_type": "code",
   "execution_count": 23,
   "metadata": {},
   "outputs": [
    {
     "name": "stdout",
     "output_type": "stream",
     "text": [
      "zij\n"
     ]
    }
   ],
   "source": [
    "print(ZZ[4:7])"
   ]
  },
  {
   "cell_type": "markdown",
   "metadata": {},
   "source": [
    "We merken dus dat het 4de, 5de en 6de karakter wordt afgedrukt, maar niet het 8ste karakter. Dit is ook zo voor selectie bij DataFrames en PandasSeries.\n",
    "Analoog willen we vanaf 4de tot einde selecteren dan gebruiken we:"
   ]
  },
  {
   "cell_type": "code",
   "execution_count": 24,
   "metadata": {},
   "outputs": [
    {
     "name": "stdout",
     "output_type": "stream",
     "text": [
      "zijn\n",
      "Zen \n"
     ]
    }
   ],
   "source": [
    "print(ZZ[4:]) # vanaf karakter 4 inclusief tot einde\n",
    "print(ZZ[:4]) #vanaf begin tot en met karakter met index 3"
   ]
  },
  {
   "cell_type": "markdown",
   "metadata": {},
   "source": [
    "Ook kunnen we van achter naar voor werken met negatieve indices\n",
    "\"Zen zijn\"  \n",
    "-87654321 \n",
    "Dus index -1 wijst naar karakter n\n",
    "    index -2 wijst naar karakter j\n",
    "    index -3 wijst naar karakter i\n",
    "    index -4 wijst naar karakter z\n",
    "    ...\n",
    "    index -8 wijst naar karakter Z\n",
    "    "
   ]
  },
  {
   "cell_type": "code",
   "execution_count": 25,
   "metadata": {},
   "outputs": [
    {
     "name": "stdout",
     "output_type": "stream",
     "text": [
      "n\n",
      "j\n",
      "i\n"
     ]
    }
   ],
   "source": [
    "print(ZZ[-1]) # wijst naar karakter n\n",
    "print(ZZ[-2]) # wijst naar karakter j\n",
    "print(ZZ[-3]) # wijst naar karakter i"
   ]
  },
  {
   "cell_type": "markdown",
   "metadata": {},
   "source": [
    "Verder kunnen we ook zo stukken selecteren: ZZ[-6:-2]"
   ]
  },
  {
   "cell_type": "code",
   "execution_count": 26,
   "metadata": {},
   "outputs": [
    {
     "data": {
      "text/plain": [
       "'n zi'"
      ]
     },
     "execution_count": 26,
     "metadata": {},
     "output_type": "execute_result"
    }
   ],
   "source": [
    "ZZ[-6:-2]"
   ]
  },
  {
   "cell_type": "markdown",
   "metadata": {},
   "source": [
    "Opgepast wat is ZZ[-2:-7]"
   ]
  },
  {
   "cell_type": "code",
   "execution_count": 27,
   "metadata": {},
   "outputs": [
    {
     "data": {
      "text/plain": [
       "''"
      ]
     },
     "execution_count": 27,
     "metadata": {},
     "output_type": "execute_result"
    }
   ],
   "source": [
    "ZZ[-2:-7]\n"
   ]
  },
  {
   "cell_type": "markdown",
   "metadata": {},
   "source": [
    "We kunnen zelfs verder gaan een stapsgewijs selecteren bijvoorbeeld door van 1 te beginnen tot 7 en elke keer een stap te nemen van 2. mIjnString[1:7:2]"
   ]
  },
  {
   "cell_type": "code",
   "execution_count": 29,
   "metadata": {},
   "outputs": [
    {
     "name": "stdout",
     "output_type": "stream",
     "text": [
      "e i\n"
     ]
    }
   ],
   "source": [
    "print(ZZ[1:7:2])# karakters ZZ[1],ZZ[3] en ZZ[5] worden achter elkaar gezet of e-spatie en i "
   ]
  },
  {
   "cell_type": "code",
   "execution_count": 30,
   "metadata": {},
   "outputs": [
    {
     "name": "stdout",
     "output_type": "stream",
     "text": [
      "Z j\n"
     ]
    }
   ],
   "source": [
    "print(ZZ[0:7:3]) # ZZ[0],ZZ[3],ZZ[6]"
   ]
  },
  {
   "cell_type": "markdown",
   "metadata": {},
   "source": [
    "Als de stappen die we nemen negatief zijn gaan we terug van achter naar voor. Zo zal ZZ[::-1] beginnen met achterste karakter dan voorlaatste enz t.t.z de string wordt omgedraaid. "
   ]
  },
  {
   "cell_type": "code",
   "execution_count": 31,
   "metadata": {},
   "outputs": [
    {
     "data": {
      "text/plain": [
       "'njiz neZ'"
      ]
     },
     "execution_count": 31,
     "metadata": {},
     "output_type": "execute_result"
    }
   ],
   "source": [
    "ZZ[::-1]"
   ]
  },
  {
   "cell_type": "markdown",
   "metadata": {},
   "source": [
    "### String operaties\n",
    "\n",
    "####  Hoofdletters versus kleine letter\n",
    "\n",
    "We illustreren enkele veel gebruikte operaties. Hoe kunnen we alle karakters in een string naar kleine letters (lower()) omzetten, of naar hoofdletters (upper()),of hoe kunnen we van de eerste letter een hoofdletter maken en de rest kleine letters?"
   ]
  },
  {
   "cell_type": "code",
   "execution_count": 34,
   "metadata": {},
   "outputs": [
    {
     "name": "stdout",
     "output_type": "stream",
     "text": [
      "HET IS EEN RAAR VOORBEELD\n",
      "het is een raar voorbeeld\n",
      "Het is een raar voorbeeld\n"
     ]
    }
   ],
   "source": [
    "VoorbeeldString=\"heT is een RaAR voorBeelD\"\n",
    "print(VoorbeeldString.upper())\n",
    "print(VoorbeeldString.lower())\n",
    "print(VoorbeeldString.capitalize())"
   ]
  },
  {
   "cell_type": "markdown",
   "metadata": {},
   "source": [
    "#### Splitten, strippen en joinen\n",
    "\n",
    "Een string opbreken in meerdere kleinere strings doen we met o.m. met de split methode. We geven aan waar we splitten door de separator parameter (sep), standaard is dit een spatie."
   ]
  },
  {
   "cell_type": "code",
   "execution_count": 36,
   "metadata": {},
   "outputs": [
    {
     "name": "stdout",
     "output_type": "stream",
     "text": [
      "['heT', 'is', 'een', 'RaAR', 'voorBeelD']\n"
     ]
    }
   ],
   "source": [
    "LijstStrings=VoorbeeldString.split()\n",
    "print(LijstStrings)"
   ]
  },
  {
   "cell_type": "code",
   "execution_count": 37,
   "metadata": {},
   "outputs": [
    {
     "name": "stdout",
     "output_type": "stream",
     "text": [
      "['voor data science hebben we nodig : kennis', ' doorzetting', ' geduld en nauwkeurigheid.']\n"
     ]
    }
   ],
   "source": [
    "NogEenString='voor data science hebben we nodig : kennis, doorzetting, geduld en nauwkeurigheid.'\n",
    "print(NogEenString.split(sep=',')) # telkens bij een komma splitsen we, de komma verdwijnt"
   ]
  },
  {
   "cell_type": "code",
   "execution_count": 40,
   "metadata": {},
   "outputs": [
    {
     "name": "stdout",
     "output_type": "stream",
     "text": [
      "Het is mooi weer vandaag.\n",
      "Morgen verwachten we bewolkt weer.\n"
     ]
    }
   ],
   "source": [
    "MeerdereZinnen=\"Het is mooi weer vandaag.\\nMorgen verwachten we bewolkt weer.\"\n",
    "print(MeerdereZinnen)"
   ]
  },
  {
   "cell_type": "code",
   "execution_count": 41,
   "metadata": {},
   "outputs": [
    {
     "name": "stdout",
     "output_type": "stream",
     "text": [
      "['Het is mooi weer vandaag.', 'Morgen verwachten we bewolkt weer.']\n"
     ]
    }
   ],
   "source": [
    "MeerdereZinnen=\"Het is mooi weer vandaag.\\nMorgen verwachten we bewolkt weer.\"\n",
    "print(MeerdereZinnen.split(sep=\"\\n\"))"
   ]
  },
  {
   "cell_type": "markdown",
   "metadata": {},
   "source": [
    "Ook \\r zal in een string duiden om op een volgende regel te beginnen. Om zowel bij  \\n en \\r te splitsen gebruiken we splitline() "
   ]
  },
  {
   "cell_type": "code",
   "execution_count": 43,
   "metadata": {},
   "outputs": [
    {
     "name": "stdout",
     "output_type": "stream",
     "text": [
      "['Het is mooi weer vandaag.', 'Morgen verwachten we bewolkt weer.', ' Het andere nieuws nu:']\n"
     ]
    }
   ],
   "source": [
    "MeerdereZinnenParagrafen=\"Het is mooi weer vandaag.\\nMorgen verwachten we bewolkt weer.\\r Het andere nieuws nu:\"\n",
    "print(MeerdereZinnenParagrafen.splitlines())"
   ]
  },
  {
   "cell_type": "markdown",
   "metadata": {},
   "source": [
    "Het omgekeerde van splitsen is joinen ook dit is iets dat we dikwijls bij teksten gebruiken. Gegeven een lijst (of een andere iteratie)  van strings met join plakken we die terug aan elkaar, waarbij we vooraf de separator aanduiden. Het formaat: sep.join(lijst). Voorbeeld:"
   ]
  },
  {
   "cell_type": "code",
   "execution_count": 83,
   "metadata": {},
   "outputs": [
    {
     "name": "stdout",
     "output_type": "stream",
     "text": [
      "['voor data science hebben we nodig : kennis', ' doorzetting', ' geduld en nauwkeurigheid.']\n",
      "voor data science hebben we nodig : kennis/ doorzetting/ geduld en nauwkeurigheid.\n"
     ]
    }
   ],
   "source": [
    "MijnLijst=NogEenString.split(sep=',')\n",
    "print(MijnLijst)\n",
    "print(\"/\".join(MijnLijst)) %merk op waar / staat"
   ]
  },
  {
   "cell_type": "markdown",
   "metadata": {},
   "source": [
    "Dikwijls staat bij het begin of op het einde van een string een onnodig teken (spatie \\n \\r). We gebruiken dan strip, die het eerste en laatste karakter weglaat van de string. De varianten stripl en stripr gaan het eerste respectievelijk laatste karakter strippen van de string."
   ]
  },
  {
   "cell_type": "code",
   "execution_count": 63,
   "metadata": {},
   "outputs": [
    {
     "data": {
      "text/plain": [
       "' eerste spatie en laatste spatie weg?'"
      ]
     },
     "execution_count": 63,
     "metadata": {},
     "output_type": "execute_result"
    }
   ],
   "source": [
    "VoorbeeldStrip=\" eerste spatie en laatste spatie weg?\\n\"\n",
    "\n",
    "VoorbeeldStrip.rstrip()# \\n wordt gestript\n"
   ]
  },
  {
   "cell_type": "code",
   "execution_count": 64,
   "metadata": {},
   "outputs": [
    {
     "data": {
      "text/plain": [
       "'eerste spatie en laatste spatie weg?'"
      ]
     },
     "execution_count": 64,
     "metadata": {},
     "output_type": "execute_result"
    }
   ],
   "source": [
    "VoorbeeldStrip.strip() # standaard wordt spatie gestript en \\n"
   ]
  },
  {
   "cell_type": "code",
   "execution_count": 65,
   "metadata": {},
   "outputs": [
    {
     "data": {
      "text/plain": [
       "'eerste spatie en laatste spatie weg?\\n'"
      ]
     },
     "execution_count": 65,
     "metadata": {},
     "output_type": "execute_result"
    }
   ],
   "source": [
    "VoorbeeldStrip.lstrip() #eerste teken weg"
   ]
  },
  {
   "cell_type": "markdown",
   "metadata": {},
   "source": [
    "#### Zoeken en substitueren in strings"
   ]
  },
  {
   "cell_type": "markdown",
   "metadata": {},
   "source": [
    "In veel problemen zoeken we in tekstfiles naar bepaalde woorden en tellen de frequenties van de woorden. Het is dan belangrijk om strings in strings te kunnen vinden. De eerste methode die dit doet is find. Voorbeeld:"
   ]
  },
  {
   "cell_type": "code",
   "execution_count": 66,
   "metadata": {},
   "outputs": [
    {
     "data": {
      "text/plain": [
       "7"
      ]
     },
     "execution_count": 66,
     "metadata": {},
     "output_type": "execute_result"
    }
   ],
   "source": [
    "VoorbeeldString.find('een')# we geven de plaats in VoorbeeldString waar we 'een' voor de eerste keer terugvinden"
   ]
  },
  {
   "cell_type": "code",
   "execution_count": 68,
   "metadata": {},
   "outputs": [
    {
     "name": "stdout",
     "output_type": "stream",
     "text": [
      "heT is een RaAR voorBeelD\n"
     ]
    },
    {
     "data": {
      "text/plain": [
       "-1"
      ]
     },
     "execution_count": 68,
     "metadata": {},
     "output_type": "execute_result"
    }
   ],
   "source": [
    "print(VoorbeeldString)\n",
    "VoorbeeldString.find('raar') # raar staat niet echt in de VoorbeeldString, 'raar' is niet hetzelfde als 'RaAR'\n",
    "# als we de substring niet terugvinden dan geven we -1 als output"
   ]
  },
  {
   "cell_type": "markdown",
   "metadata": {},
   "source": [
    "We kunnen aangeven van waar we beginnen zoeken in de string."
   ]
  },
  {
   "cell_type": "code",
   "execution_count": 79,
   "metadata": {},
   "outputs": [
    {
     "data": {
      "text/plain": [
       "24"
      ]
     },
     "execution_count": 79,
     "metadata": {},
     "output_type": "execute_result"
    }
   ],
   "source": [
    "VoorbeeldFind=\"eerste woord en laatste woord zoeken\"\n",
    "VoorbeeldFind.find('woord',13,61)# we zoeken in de string vanaf positie 17 tot 61 "
   ]
  },
  {
   "cell_type": "markdown",
   "metadata": {},
   "source": [
    "Op plaats 24 vinden we inderdaad de tweede 'woord' "
   ]
  },
  {
   "cell_type": "markdown",
   "metadata": {},
   "source": [
    "Er is ook een alternatief voor find die bijna hetzelfde doet:index. Het verschil is dat find -1 geeft als resultaat indien de substring niet gevinden wordt, index geeft dan een foutmelding. We moeten dus daar rekening mee houden en een try en except invoeren."
   ]
  },
  {
   "cell_type": "code",
   "execution_count": 88,
   "metadata": {},
   "outputs": [
    {
     "name": "stdout",
     "output_type": "stream",
     "text": [
      "heT is een RaAR voorBeelD\n",
      "raar niet gevonden\n"
     ]
    }
   ],
   "source": [
    "print(VoorbeeldString)\n",
    "woord='raar'\n",
    "try:\n",
    "    VoorbeeldString.index(woord) \n",
    "except ValueError:\n",
    "    print(woord,\"niet gevonden\")"
   ]
  },
  {
   "cell_type": "markdown",
   "metadata": {},
   "source": [
    "We kunnen ook gaan tellen hoe dikwijls een substring voorkomt. \n",
    "String.count(substring): telt hoeveel keer substring in String voorkomt. "
   ]
  },
  {
   "cell_type": "code",
   "execution_count": 89,
   "metadata": {},
   "outputs": [
    {
     "data": {
      "text/plain": [
       "2"
      ]
     },
     "execution_count": 89,
     "metadata": {},
     "output_type": "execute_result"
    }
   ],
   "source": [
    "MeerdereZinnen=\"Het is mooi weer vandaag.\\nMorgen verwachten we bewolkt weer.\"\n",
    "MeerdereZinnen.count(\"weer\")"
   ]
  },
  {
   "cell_type": "code",
   "execution_count": 90,
   "metadata": {},
   "outputs": [
    {
     "data": {
      "text/plain": [
       "1"
      ]
     },
     "execution_count": 90,
     "metadata": {},
     "output_type": "execute_result"
    }
   ],
   "source": [
    "MeerdereZinnen.count(\"weer\",20,90)# we tellen nu het aantal keer dat \"weer\" voorkomt vanaf positie 20"
   ]
  },
  {
   "cell_type": "markdown",
   "metadata": {},
   "source": [
    "Tenslotte willen we ook niet enkel substrings opzoeken in een string maar die eventueel ook vervangen door een andere substring. Dit doen we door String.replace(substring1,substring2,aantalkeer)"
   ]
  },
  {
   "cell_type": "code",
   "execution_count": 91,
   "metadata": {},
   "outputs": [
    {
     "data": {
      "text/plain": [
       "'Het is mooi zonnig vandaag.\\nMorgen verwachten we bewolkt weer.'"
      ]
     },
     "execution_count": 91,
     "metadata": {},
     "output_type": "execute_result"
    }
   ],
   "source": [
    "MeerdereZinnen.replace(\"weer\",\"zonnig\",1) #enkel de eerste 'weer' wordt vervangen!"
   ]
  },
  {
   "cell_type": "code",
   "execution_count": 92,
   "metadata": {},
   "outputs": [
    {
     "data": {
      "text/plain": [
       "'Het is mooi zeer vandaag.\\nMorgen verzachten ze bezolkt zeer.'"
      ]
     },
     "execution_count": 92,
     "metadata": {},
     "output_type": "execute_result"
    }
   ],
   "source": [
    "MeerdereZinnen.replace(\"w\",\"z\")"
   ]
  },
  {
   "cell_type": "code",
   "execution_count": null,
   "metadata": {},
   "outputs": [],
   "source": []
  }
 ],
 "metadata": {
  "kernelspec": {
   "display_name": "Python 3",
   "language": "python",
   "name": "python3"
  },
  "language_info": {
   "codemirror_mode": {
    "name": "ipython",
    "version": 3
   },
   "file_extension": ".py",
   "mimetype": "text/x-python",
   "name": "python",
   "nbconvert_exporter": "python",
   "pygments_lexer": "ipython3",
   "version": "3.7.4"
  }
 },
 "nbformat": 4,
 "nbformat_minor": 2
}
